{
 "cells": [
  {
   "cell_type": "code",
   "execution_count": 1,
   "id": "bf44d30f",
   "metadata": {},
   "outputs": [
    {
     "name": "stdout",
     "output_type": "stream",
     "text": [
      "Requirement already satisfied: pysubs2 in /home/lokesh/anaconda3/lib/python3.9/site-packages (1.6.1)\n",
      "Requirement already satisfied: pysrt in /home/lokesh/anaconda3/lib/python3.9/site-packages (1.1.2)\n",
      "Requirement already satisfied: chardet in /home/lokesh/anaconda3/lib/python3.9/site-packages (from pysrt) (4.0.0)\n"
     ]
    }
   ],
   "source": [
    "!pip install pysubs2\n",
    "!pip install pysrt"
   ]
  },
  {
   "cell_type": "code",
   "execution_count": 2,
   "id": "9890f1b5",
   "metadata": {},
   "outputs": [],
   "source": [
    "import os\n",
    "import json\n",
    "import numpy as np\n",
    "\n",
    "from dataload import *"
   ]
  },
  {
   "cell_type": "markdown",
   "id": "6b610ac2",
   "metadata": {},
   "source": [
    "### Load metadata"
   ]
  },
  {
   "cell_type": "code",
   "execution_count": 3,
   "id": "5a99fee9",
   "metadata": {},
   "outputs": [
    {
     "name": "stdout",
     "output_type": "stream",
     "text": [
      "total number of movies:  1414\n"
     ]
    }
   ],
   "source": [
    "with open('movie_info.json') as rf:\n",
    "    movie_info = json.load(rf)\n",
    "print(\"total number of movies: \", len(movie_info))"
   ]
  },
  {
   "cell_type": "markdown",
   "id": "33856eb2",
   "metadata": {},
   "source": [
    "### Load summaries"
   ]
  },
  {
   "cell_type": "code",
   "execution_count": 4,
   "id": "02b85c97",
   "metadata": {},
   "outputs": [
    {
     "name": "stdout",
     "output_type": "stream",
     "text": [
      "loaded summaries for 1414 movies\n"
     ]
    }
   ],
   "source": [
    "with open('summaries.json') as rf:\n",
    "    movie_summaries = json.load(rf)\n",
    "\n",
    "print(f'loaded summaries for {len(movie_summaries)} movies')\n",
    "    \n",
    "lengths = []\n",
    "for m,s in movie_summaries.items():\n",
    "    lengths.append(len(s.split(' ')))"
   ]
  },
  {
   "cell_type": "code",
   "execution_count": 5,
   "id": "9fb31c15",
   "metadata": {},
   "outputs": [
    {
     "name": "stdout",
     "output_type": "stream",
     "text": [
      "Word count stats for summaries:\n",
      "mean: 429.84299858557284\n",
      "min: 16\n",
      "max: 4282\n",
      "std: 347.89091466252523\n"
     ]
    }
   ],
   "source": [
    "print('Word count stats for summaries:')\n",
    "print('mean:', np.average(lengths))\n",
    "print('min:', np.min(lengths))\n",
    "print('max:', np.max(lengths))\n",
    "print('std:', np.std(lengths))"
   ]
  },
  {
   "cell_type": "markdown",
   "id": "b5795105",
   "metadata": {},
   "source": [
    "### Load subtitles"
   ]
  },
  {
   "cell_type": "code",
   "execution_count": 6,
   "id": "2832f27f",
   "metadata": {},
   "outputs": [
    {
     "name": "stdout",
     "output_type": "stream",
     "text": [
      "Loaded subtitles for 1322 movies\n"
     ]
    }
   ],
   "source": [
    "subtitles = {}\n",
    "for movie_id, meta in movie_info.items():\n",
    "    sub_path = meta['subtitle_path']\n",
    "    subs = None\n",
    "    try:\n",
    "        subs = read_subs(sub_path)\n",
    "        if len(subs) == 0:\n",
    "            #print(sub_path)\n",
    "            subs = None\n",
    "            continue\n",
    "    except Exception as e:\n",
    "        #print(sub_path)\n",
    "        #print(e)\n",
    "        continue\n",
    "    subtitles[movie_id] = subs\n",
    "print(f\"Loaded subtitles for {len(subtitles)} movies\")"
   ]
  },
  {
   "cell_type": "code",
   "execution_count": 7,
   "id": "34bcaad1",
   "metadata": {},
   "outputs": [],
   "source": [
    "lengths = []\n",
    "word_counts = []\n",
    "for movie_id, subs in subtitles.items():\n",
    "    if len(subs) < 100:\n",
    "        continue\n",
    "    lengths.append(len(subs))\n",
    "    wc = 0\n",
    "    for dialog in subs:\n",
    "        wc += len(dialog.split(' '))\n",
    "    word_counts.append(wc)\n",
    "#     if len(subs) < 100:\n",
    "#         print(len(subs), movie_info[movie_id]['subtitle_path'])"
   ]
  },
  {
   "cell_type": "code",
   "execution_count": 8,
   "id": "42162950",
   "metadata": {},
   "outputs": [
    {
     "name": "stdout",
     "output_type": "stream",
     "text": [
      "Dialogue count stats for subtitles:\n",
      "mean: 1255.856704980843\n",
      "min: 107\n",
      "max: 3583\n",
      "std: 482.58623528411437\n"
     ]
    }
   ],
   "source": [
    "print('Dialogue count stats for subtitles:')\n",
    "print('mean:', np.average(lengths))\n",
    "print('min:', np.min(lengths))\n",
    "print('max:', np.max(lengths))\n",
    "print('std:', np.std(lengths))"
   ]
  },
  {
   "cell_type": "code",
   "execution_count": 9,
   "id": "01cb6f2e",
   "metadata": {
    "scrolled": true
   },
   "outputs": [
    {
     "name": "stdout",
     "output_type": "stream",
     "text": [
      "Word count stats for subtitles:\n",
      "mean: 7942.2904214559385\n",
      "min: 497\n",
      "max: 22263\n",
      "std: 3245.927435365026\n"
     ]
    }
   ],
   "source": [
    "print('Word count stats for subtitles:')\n",
    "print('mean:', np.average(word_counts))\n",
    "print('min:', np.min(word_counts))\n",
    "print('max:', np.max(word_counts))\n",
    "print('std:', np.std(word_counts))"
   ]
  },
  {
   "cell_type": "code",
   "execution_count": null,
   "id": "142d4dee",
   "metadata": {},
   "outputs": [],
   "source": []
  }
 ],
 "metadata": {
  "kernelspec": {
   "display_name": "Python 3 (ipykernel)",
   "language": "python",
   "name": "python3"
  },
  "language_info": {
   "codemirror_mode": {
    "name": "ipython",
    "version": 3
   },
   "file_extension": ".py",
   "mimetype": "text/x-python",
   "name": "python",
   "nbconvert_exporter": "python",
   "pygments_lexer": "ipython3",
   "version": "3.9.12"
  }
 },
 "nbformat": 4,
 "nbformat_minor": 5
}
